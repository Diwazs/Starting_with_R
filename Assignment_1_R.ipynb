{
  "metadata": {
    "kernelspec": {
      "name": "python",
      "display_name": "Python (Pyodide)",
      "language": "python"
    },
    "language_info": {
      "codemirror_mode": {
        "name": "python",
        "version": 3
      },
      "file_extension": ".py",
      "mimetype": "text/x-python",
      "name": "python",
      "nbconvert_exporter": "python",
      "pygments_lexer": "ipython3",
      "version": "3.8"
    }
  },
  "nbformat_minor": 5,
  "nbformat": 4,
  "cells": [
    {
      "id": "2672ff5c-8691-41c1-b8b4-16b25169a418",
      "cell_type": "markdown",
      "source": "<h1>CourseraAssignment<h1>\n",
      "metadata": {}
    },
    {
      "id": "f18311e8-53ea-4b30-8acd-d14e2fb42599",
      "cell_type": "markdown",
      "source": ">Introduction\n>>This is the final assignment that is to be peer graded. It indicates the practical use of the course and the applications of it",
      "metadata": {}
    },
    {
      "id": "674e748d-d3dd-47bf-8868-0b8bac56f201",
      "cell_type": "markdown",
      "source": ">Data science Languages\n>-  Python\n>-  R\n>-  Java\n>-  SQL\n>-  Matlab\n>-  Julia\n",
      "metadata": {}
    },
    {
      "id": "fbde0b6c-8a62-4b83-a576-c0a8ad9d0ecf",
      "cell_type": "markdown",
      "source": ">Data sceince libraries\n>-  pandas\n>-  numPy\n>-  SciPy\n>-  Matplotlib\n>-  Pytorch",
      "metadata": {}
    },
    {
      "id": "559a91d6-0c2a-4579-88d2-40d78bb8c23f",
      "cell_type": "markdown",
      "source": ">Data science tools\n|Sno.| Name |\n|----|------|\n|  1 |Apache Hadoop|\n|  2 |SAS   |\n|  3 |JupyTer|\n|  4 |Tensor Flow|\n",
      "metadata": {}
    },
    {
      "id": "5925a67a-f816-4443-8cd9-6ae1f9a88357",
      "cell_type": "markdown",
      "source": ">Arithmetic Expression Examples\n>>- a*b/c\n>>- a+b+c//2\n>>- a(b-c)*2/a+b",
      "metadata": {}
    },
    {
      "id": "e5f2e52a-feda-4f2e-9284-c5fa85e0e7c3",
      "cell_type": "code",
      "source": "a=5\nb=5\nsum=a+b\nproduct=a*b\nprint(\"sum is\",sum)\nprint(\"product is\",product)",
      "metadata": {
        "trusted": true
      },
      "outputs": [
        {
          "name": "stdout",
          "output_type": "stream",
          "text": "sum is 10\nproduct is 25\n"
        }
      ],
      "execution_count": 3
    },
    {
      "id": "78e97927-b415-43bd-b357-a618b1317620",
      "cell_type": "code",
      "source": "a=25\nhours=a/60\nprint(\"the number of hour/s are/is\",hours)",
      "metadata": {
        "trusted": true
      },
      "outputs": [
        {
          "name": "stdout",
          "output_type": "stream",
          "text": "the number of hour/s are/is 0.4166666666666667\n"
        }
      ],
      "execution_count": 2
    },
    {
      "id": "6c9f90d4-ed5d-4b39-950c-ce7faac75014",
      "cell_type": "markdown",
      "source": ">Objectives\n>- To show basic working of R\n>- Create simple markdown cells\n>- Create simple codes and display",
      "metadata": {}
    },
    {
      "id": "d26bd873-2494-4209-8679-ae9db48d005e",
      "cell_type": "markdown",
      "source": ">Author's name: Diwas",
      "metadata": {}
    },
    {
      "id": "2bce3f49-be1d-44dc-b343-2cc8d7fd771a",
      "cell_type": "code",
      "source": "",
      "metadata": {
        "trusted": true
      },
      "outputs": [],
      "execution_count": null
    }
  ]
}